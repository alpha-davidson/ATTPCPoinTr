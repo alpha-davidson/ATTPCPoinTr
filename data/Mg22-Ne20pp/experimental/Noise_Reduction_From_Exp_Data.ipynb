{
 "cells": [
  {
   "cell_type": "code",
   "execution_count": 1,
   "id": "d5e923b7",
   "metadata": {},
   "outputs": [
    {
     "ename": "NameError",
     "evalue": "name 'data_path' is not defined",
     "output_type": "error",
     "traceback": [
      "\u001b[0;31m---------------------------------------------------------------------------\u001b[0m",
      "\u001b[0;31mNameError\u001b[0m                                 Traceback (most recent call last)",
      "Cell \u001b[0;32mIn[1], line 24\u001b[0m\n\u001b[1;32m     18\u001b[0m     \u001b[38;5;28;01mreturn\u001b[39;00m filtered_xyz[:, \u001b[38;5;241m0\u001b[39m], filtered_xyz[:, \u001b[38;5;241m1\u001b[39m], filtered_xyz[:, \u001b[38;5;241m2\u001b[39m]\n\u001b[1;32m     23\u001b[0m \u001b[38;5;66;03m# Load the data\u001b[39;00m\n\u001b[0;32m---> 24\u001b[0m f \u001b[38;5;241m=\u001b[39m np\u001b[38;5;241m.\u001b[39mload(\u001b[43mdata_path\u001b[49m)\n\u001b[1;32m     26\u001b[0m \u001b[38;5;66;03m# Ranges for upscaling\u001b[39;00m\n\u001b[1;32m     27\u001b[0m RANGES \u001b[38;5;241m=\u001b[39m {\n\u001b[1;32m     28\u001b[0m     \u001b[38;5;124m'\u001b[39m\u001b[38;5;124mMIN_X\u001b[39m\u001b[38;5;124m'\u001b[39m: \u001b[38;5;241m-\u001b[39m\u001b[38;5;241m270.0\u001b[39m,\n\u001b[1;32m     29\u001b[0m     \u001b[38;5;124m'\u001b[39m\u001b[38;5;124mMAX_X\u001b[39m\u001b[38;5;124m'\u001b[39m: \u001b[38;5;241m270.0\u001b[39m,\n\u001b[0;32m   (...)\u001b[0m\n\u001b[1;32m     33\u001b[0m     \u001b[38;5;124m'\u001b[39m\u001b[38;5;124mMAX_Z\u001b[39m\u001b[38;5;124m'\u001b[39m: \u001b[38;5;241m1155.0\u001b[39m\n\u001b[1;32m     34\u001b[0m }\n",
      "\u001b[0;31mNameError\u001b[0m: name 'data_path' is not defined"
     ]
    }
   ],
   "source": [
    "import numpy as np\n",
    "import matplotlib.pyplot as plt\n",
    "from sklearn.cluster import DBSCAN\n",
    "\n",
    "# Function to upscale the event data\n",
    "def upscale(evt, ranges):\n",
    "    xs = evt[:, 0] * (ranges['MAX_X'] - ranges['MIN_X']) + ranges['MIN_X']\n",
    "    ys = evt[:, 1] * (ranges['MAX_Y'] - ranges['MIN_Y']) + ranges['MIN_Y']\n",
    "    zs = evt[:, 2] * (ranges['MAX_Z'] - ranges['MIN_Z']) + ranges['MIN_Z']\n",
    "    return xs, ys, zs\n",
    "\n",
    "# Function to apply DBSCAN for noise reduction\n",
    "def reduce_noise(xs, ys, zs, eps=50, min_samples=10):  # Further adjusted parameters\n",
    "    xyz = np.stack((xs, ys, zs), axis=-1)\n",
    "    dbscan = DBSCAN(eps=eps, min_samples=min_samples)\n",
    "    clusters = dbscan.fit_predict(xyz)\n",
    "    filtered_xyz = xyz[clusters != -1]\n",
    "    return filtered_xyz[:, 0], filtered_xyz[:, 1], filtered_xyz[:, 2]\n",
    "\n",
    "\n",
    "\n",
    "\n",
    "# Load the data\n",
    "f = np.load(data_path)\n",
    "\n",
    "# Ranges for upscaling\n",
    "RANGES = {\n",
    "    'MIN_X': -270.0,\n",
    "    'MAX_X': 270.0,\n",
    "    'MIN_Y': -270.0,\n",
    "    'MAX_Y': 270.0,\n",
    "    'MIN_Z': -185.0,\n",
    "    'MAX_Z': 1155.0\n",
    "}\n",
    "\n",
    "# Upscale an event\n",
    "xs, ys, zs = upscale(f[23], RANGES)\n",
    "\n",
    "# Reduce noise\n",
    "xs_filtered, ys_filtered, zs_filtered = reduce_noise(xs, ys, zs)\n",
    "\n",
    "# Plotting both original and noise-reduced data side by side\n",
    "fig = plt.figure(figsize=(12, 6))\n",
    "\n",
    "# Original Data\n",
    "ax1 = fig.add_subplot(121, projection='3d')\n",
    "ax1.scatter(xs, zs, ys, s=1)\n",
    "ax1.set_title('Original Data')\n",
    "ax1.set_xlabel('X')\n",
    "ax1.set_ylabel('Z')\n",
    "ax1.set_zlabel('Y')\n",
    "\n",
    "# Noise-Reduced Data\n",
    "ax2 = fig.add_subplot(122, projection='3d')\n",
    "ax2.scatter(xs_filtered, zs_filtered, ys_filtered, s=1)\n",
    "ax2.set_title('Noise-Reduced Data')\n",
    "ax2.set_xlabel('X')\n",
    "ax2.set_ylabel('Z')\n",
    "ax2.set_zlabel('Y')\n",
    "\n",
    "plt.show()\n"
   ]
  },
  {
   "cell_type": "code",
   "execution_count": null,
   "id": "7b950283",
   "metadata": {},
   "outputs": [],
   "source": []
  }
 ],
 "metadata": {
  "kernelspec": {
   "display_name": "alphatodamoon",
   "language": "python",
   "name": "alphatodamoon"
  },
  "language_info": {
   "codemirror_mode": {
    "name": "ipython",
    "version": 3
   },
   "file_extension": ".py",
   "mimetype": "text/x-python",
   "name": "python",
   "nbconvert_exporter": "python",
   "pygments_lexer": "ipython3",
   "version": "3.10.13"
  }
 },
 "nbformat": 4,
 "nbformat_minor": 5
}
