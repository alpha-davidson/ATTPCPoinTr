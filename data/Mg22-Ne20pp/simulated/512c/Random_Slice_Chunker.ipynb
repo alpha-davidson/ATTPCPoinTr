{
 "cells": [
  {
   "cell_type": "code",
   "execution_count": 1,
   "id": "749e856e",
   "metadata": {},
   "outputs": [],
   "source": [
    "import numpy as np\n",
    "\n",
    "data = np.load('Mg22_size512_convertXYZQ_train.npy')\n"
   ]
  },
  {
   "cell_type": "code",
   "execution_count": 6,
   "id": "f8393a86",
   "metadata": {},
   "outputs": [
    {
     "name": "stdout",
     "output_type": "stream",
     "text": [
      "2015\n"
     ]
    }
   ],
   "source": [
    "import random\n",
    "\n",
    "num_chunks = 8  # or adjust based on your data's dimensions\n",
    "points_per_chunk = 32  # or adjust as needed\n",
    "z_dim = data.shape[0]  # z-dimension of your data\n",
    "\n",
    "print(z_dim)\n",
    "start_points = random.sample(range(z_dim - points_per_chunk + 1), num_chunks)\n"
   ]
  },
  {
   "cell_type": "code",
   "execution_count": null,
   "id": "7c07b4ec",
   "metadata": {},
   "outputs": [],
   "source": [
    "def remove_points_in_segments(event, num_segments, total_points_to_remove):\n",
    "    # Determine the number of points to remove per segment\n",
    "    points_per_segment = total_points_to_remove // num_segments\n",
    "\n",
    "    # Get the range of Z values\n",
    "    z_min, z_max = np.min(event[:, 2]), np.max(event[:, 2])\n",
    "    segment_size = (z_max - z_min) / num_segments\n",
    "\n",
    "    modified_event = event.copy()\n",
    "\n",
    "    for i in range(num_segments):\n",
    "        # Define the segment bounds\n",
    "        z_lower = z_min + i * segment_size\n",
    "        z_upper = z_lower + segment_size\n",
    "\n",
    "        # Select points within this segment\n",
    "        segment_mask = (modified_event[:, 2] >= z_lower) & (modified_event[:, 2] < z_upper)\n",
    "        segment_points = modified_event[segment_mask]\n",
    "\n",
    "        # Randomly remove points from this segment\n",
    "        if len(segment_points) > points_per_segment:\n",
    "            points_to_remove = np.random.choice(range(len(segment_points)), points_per_segment, replace=False)\n",
    "            segment_points = np.delete(segment_points, points_to_remove, axis=0)\n",
    "\n",
    "        # Update the modified event\n",
    "        modified_event = np.concatenate([modified_event[~segment_mask], segment_points])\n",
    "\n",
    "    return modified_event\n",
    "\n",
    "# Apply the new function to remove points\n",
    "modified_event_v2 = remove_points_in_segments(first_event, 8, 256)\n",
    "\n",
    "# 3D Plotting the new modified event\n",
    "x_mod_v2 = modified_event_v2[:, 0]\n",
    "y_mod_v2 = modified_event_v2[:, 1]\n",
    "z_mod_v2 = modified_event_v2[:, 2]\n",
    "\n",
    "fig_v2 = plt.figure(figsize=(10, 8))\n",
    "ax_v2 = fig_v2.add_subplot(111, projection='3d')\n",
    "scatter_v2 = ax_v2.scatter(x_mod_v2, y_mod_v2, z_mod_v2, c=z_mod_v2, cmap='viridis')\n",
    "plt.colorbar(scatter_v2, ax=ax_v2, label='Z Coordinate')\n",
    "ax_v2.set_xlabel('X Coordinate')\n",
    "ax_v2.set_ylabel('Y Coordinate')\n",
    "ax_v2.set_zlabel('Z Coordinate')\n",
    "ax_v2.set_title('3D Scatter Plot of New Modified Event')\n",
    "plt.show()\n"
   ]
  }
 ],
 "metadata": {
  "kernelspec": {
   "display_name": "alphatodamoon",
   "language": "python",
   "name": "alphatodamoon"
  },
  "language_info": {
   "codemirror_mode": {
    "name": "ipython",
    "version": 3
   },
   "file_extension": ".py",
   "mimetype": "text/x-python",
   "name": "python",
   "nbconvert_exporter": "python",
   "pygments_lexer": "ipython3",
   "version": "3.10.13"
  }
 },
 "nbformat": 4,
 "nbformat_minor": 5
}
