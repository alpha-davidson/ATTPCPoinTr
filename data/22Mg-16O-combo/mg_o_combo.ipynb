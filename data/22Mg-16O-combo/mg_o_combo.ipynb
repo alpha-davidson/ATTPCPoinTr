{
 "cells": [
  {
   "cell_type": "code",
   "execution_count": 1,
   "metadata": {},
   "outputs": [
    {
     "name": "stdout",
     "output_type": "stream",
     "text": [
      "/home/DAVIDSON/bewagner/summer2023/ATTPCPoinTr/data/22Mg-16O-combo\n"
     ]
    }
   ],
   "source": [
    "import numpy as np\n",
    "import matplotlib.pyplot as plt\n",
    "import os\n",
    "print(os.getcwd())"
   ]
  },
  {
   "cell_type": "code",
   "execution_count": 2,
   "metadata": {},
   "outputs": [
    {
     "name": "stdout",
     "output_type": "stream",
     "text": [
      "Train Complete: (4933, 512, 3)\n",
      "Test Complete: (976, 512, 3)\n",
      "Val Complete: (978, 512, 3)\n",
      "Train Partial: (4933, 384, 3)\n",
      "Test Partial: (976, 384, 3)\n",
      "Val Partial: (978, 384, 3)\n"
     ]
    }
   ],
   "source": [
    "trainComplete = np.load('/home/DAVIDSON/bewagner/summer2023/16O+Mg22_Combined_Datasets/Mg22_O16_size512_convertXYZ_train.npy')\n",
    "testComplete = np.load('/home/DAVIDSON/bewagner/summer2023/16O+Mg22_Combined_Datasets/Mg22_O16_size512_convertXYZ_test.npy')\n",
    "valComplete = np.load('/home/DAVIDSON/bewagner/summer2023/16O+Mg22_Combined_Datasets/Mg22_O16_size512_convertXYZ_val.npy')\n",
    "\n",
    "print(f'Train Complete: {trainComplete.shape}')\n",
    "print(f'Test Complete: {testComplete.shape}')\n",
    "print(f'Val Complete: {valComplete.shape}')\n",
    "\n",
    "trainPartial = np.load('/home/DAVIDSON/bewagner/summer2023/16O+Mg22_Combined_Datasets/384/Mg22_O16_size384_convertXYZ_train.npy')\n",
    "testPartial = np.load('/home/DAVIDSON/bewagner/summer2023/16O+Mg22_Combined_Datasets/384/Mg22_O16_size384_convertXYZ_test.npy')\n",
    "valPartial = np.load('/home/DAVIDSON/bewagner/summer2023/16O+Mg22_Combined_Datasets/384/Mg22_O16_size384_convertXYZ_val.npy')\n",
    "\n",
    "print(f'Train Partial: {trainPartial.shape}')\n",
    "print(f'Test Partial: {testPartial.shape}')\n",
    "print(f'Val Partial: {valPartial.shape}')"
   ]
  },
  {
   "cell_type": "code",
   "execution_count": 7,
   "metadata": {},
   "outputs": [
    {
     "name": "stdout",
     "output_type": "stream",
     "text": [
      "Train Complete: (4639, 512, 3)\n",
      "Test Complete: (909, 512, 3)\n",
      "Val Complete: (910, 512, 3)\n",
      "Train Partial: (4639, 384, 3)\n",
      "Test Partial: (909, 384, 3)\n",
      "Val Partial: (910, 384, 3)\n"
     ]
    }
   ],
   "source": [
    "filtered_trainComplete = np.load('./filtered_mg-o_complete_train.npy')\n",
    "filtered_testComplete = np.load('./filtered_mg-o_complete_test.npy')\n",
    "filtered_valComplete = np.load('./filtered_mg-o_complete_val.npy')\n",
    "\n",
    "print(f'Train Complete: {filtered_trainComplete.shape}')\n",
    "print(f'Test Complete: {filtered_testComplete.shape}')\n",
    "print(f'Val Complete: {filtered_valComplete.shape}')\n",
    "\n",
    "filtered_trainPartial = np.load('./filtered_mg-o_partial_train.npy')\n",
    "filtered_testPartial = np.load('./filtered_mg-o_partial_test.npy')\n",
    "filtered_valPartial = np.load('./filtered_mg-o_partial_val.npy')\n",
    "\n",
    "print(f'Train Partial: {filtered_trainPartial.shape}')\n",
    "print(f'Test Partial: {filtered_testPartial.shape}')\n",
    "print(f'Val Partial: {filtered_valPartial.shape}')"
   ]
  },
  {
   "cell_type": "code",
   "execution_count": null,
   "metadata": {},
   "outputs": [
    {
     "name": "stdout",
     "output_type": "stream",
     "text": [
      "trainComplete min unique: 41\n",
      "testComplete min unique: 41\n",
      "valComplete min unique: 41\n",
      "\n",
      "trainComplete max unique: 512\n",
      "testComplete max unique: 512\n",
      "valComplete max unique: 512\n"
     ]
    }
   ],
   "source": [
    "train_unique = np.ndarray((len(trainComplete)), dtype=int)\n",
    "test_unique = np.ndarray((len(testComplete)), dtype=int)\n",
    "val_unique = np.ndarray((len(valComplete)), dtype=int)\n",
    "\n",
    "for i, ev in enumerate(trainComplete):\n",
    "    train_unique[i] = len(np.unique(ev, axis=0))\n",
    "\n",
    "for i, ev in enumerate(testComplete):\n",
    "    test_unique[i] = len(np.unique(ev, axis=0))\n",
    "\n",
    "for i, ev in enumerate(valComplete):\n",
    "    val_unique[i] = len(np.unique(ev, axis=0))\n",
    "\n",
    "print(f'trainComplete min unique: {np.amin(train_unique)}')\n",
    "print(f'testComplete min unique: {np.amin(test_unique)}')\n",
    "print(f'valComplete min unique: {np.amin(val_unique)}')\n",
    "print()\n",
    "print(f'trainComplete max unique: {np.amax(train_unique)}')\n",
    "print(f'testComplete max unique: {np.amax(test_unique)}')\n",
    "print(f'valComplete max unique: {np.amax(val_unique)}')"
   ]
  },
  {
   "cell_type": "code",
   "execution_count": null,
   "metadata": {},
   "outputs": [
    {
     "name": "stdout",
     "output_type": "stream",
     "text": [
      "Discarding 2959 events from train\n",
      "Discarding 603 events from test\n",
      "Discarding 610 events from val\n"
     ]
    }
   ],
   "source": [
    "train_keep_count = 0\n",
    "test_keep_count = 0\n",
    "val_keep_count = 0\n",
    "\n",
    "threshold = 256\n",
    "\n",
    "for c in train_unique:\n",
    "    if c >= threshold:\n",
    "        train_keep_count += 1\n",
    "\n",
    "for c in test_unique:\n",
    "    if c >= threshold:\n",
    "        test_keep_count += 1\n",
    "\n",
    "for c in val_unique:\n",
    "    if c >= threshold:\n",
    "        val_keep_count += 1\n",
    "\n",
    "print(f'Discarding {len(trainComplete) - train_keep_count} events from train')\n",
    "print(f'Discarding {len(testComplete) - test_keep_count} events from test')\n",
    "print(f'Discarding {len(valComplete) - val_keep_count} events from val')"
   ]
  },
  {
   "cell_type": "code",
   "execution_count": null,
   "metadata": {},
   "outputs": [
    {
     "name": "stdout",
     "output_type": "stream",
     "text": [
      "Train Partial: (1974, 384, 3)\n",
      "Test Partial: (373, 384, 3)\n",
      "Val Partial: (368, 384, 3)\n"
     ]
    }
   ],
   "source": [
    "filtered_train_complete = np.ndarray((train_keep_count, trainComplete.shape[1], 3))\n",
    "filtered_test_complete = np.ndarray((test_keep_count, testComplete.shape[1], 3))\n",
    "filtered_val_complete = np.ndarray((val_keep_count, valComplete.shape[1], 3))\n",
    "\n",
    "filtered_train_partial = np.ndarray((train_keep_count, trainPartial.shape[1], 3))\n",
    "filtered_test_partial = np.ndarray((test_keep_count, testPartial.shape[1], 3))\n",
    "filtered_val_partial = np.ndarray((val_keep_count, valPartial.shape[1], 3))\n",
    "\n",
    "idx = 0\n",
    "for i, c in enumerate(train_unique):\n",
    "    if c < threshold:\n",
    "        continue\n",
    "    filtered_train_complete[idx] = trainComplete[i]\n",
    "    filtered_train_partial[idx] = trainPartial[i]\n",
    "    idx += 1\n",
    "\n",
    "idx = 0\n",
    "for i, c in enumerate(test_unique):\n",
    "    if c < threshold:\n",
    "        continue\n",
    "    filtered_test_complete[idx] = testComplete[i]\n",
    "    filtered_test_partial[idx] = testPartial[i]\n",
    "    idx += 1\n",
    "\n",
    "idx = 0\n",
    "for i, c in enumerate(val_unique):\n",
    "    if c < threshold:\n",
    "        continue\n",
    "    filtered_val_complete[idx] = valComplete[i]\n",
    "    filtered_val_partial[idx] = valPartial[i]\n",
    "    idx += 1\n",
    "\n",
    "np.save('./filtered_mg-o_complete_train.npy', filtered_train_complete)\n",
    "np.save('./filtered_mg-o_complete_test.npy', filtered_test_complete)\n",
    "np.save('./filtered_mg-o_complete_val.npy', filtered_val_complete)\n",
    "\n",
    "np.save('./filtered_mg-o_partial_train.npy', filtered_train_partial)\n",
    "np.save('./filtered_mg-o_partial_test.npy', filtered_test_partial)\n",
    "np.save('./filtered_mg-o_partial_val.npy', filtered_val_partial)\n",
    "\n",
    "print(f'Train Partial: {filtered_train_partial.shape}')\n",
    "print(f'Test Partial: {filtered_test_partial.shape}')\n",
    "print(f'Val Partial: {filtered_val_partial.shape}')"
   ]
  }
 ],
 "metadata": {
  "kernelspec": {
   "display_name": "piptorch",
   "language": "python",
   "name": "python3"
  },
  "language_info": {
   "codemirror_mode": {
    "name": "ipython",
    "version": 3
   },
   "file_extension": ".py",
   "mimetype": "text/x-python",
   "name": "python",
   "nbconvert_exporter": "python",
   "pygments_lexer": "ipython3",
   "version": "3.10.11"
  }
 },
 "nbformat": 4,
 "nbformat_minor": 2
}
